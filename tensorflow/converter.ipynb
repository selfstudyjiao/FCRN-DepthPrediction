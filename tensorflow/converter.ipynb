{
 "cells": [
  {
   "cell_type": "markdown",
   "metadata": {},
   "source": [
    "# convert image format from 4 channel, 8 bit per channel to single channel, 8 bit per channel"
   ]
  },
  {
   "cell_type": "code",
   "execution_count": 12,
   "metadata": {
    "collapsed": true
   },
   "outputs": [],
   "source": [
    "from PIL import Image\n",
    "from matplotlib import image as im\n",
    "import numpy as np\n",
    "import glob, os\n",
    "import png\n",
    "inputPath = '.\\\\test'\n",
    "outputPath = '.\\\\output2'\n",
    "inputFiles = inputPath + \"\\\\*.png\"\n",
    "width = 640\n",
    "height = 480\n"
   ]
  },
  {
   "cell_type": "code",
   "execution_count": 11,
   "metadata": {
    "collapsed": false
   },
   "outputs": [
    {
     "name": "stdout",
     "output_type": "stream",
     "text": [
      ".\\test\\*.png\n",
      "1341847980.722988.png\n",
      "Old:\n",
      "(640, 480)\n",
      "RGBA\n",
      "((0, 255), (0, 255), (0, 255), (255, 255))\n",
      "New:\n",
      "(640, 480)\n",
      "L\n",
      "(0, 255)\n",
      "1341847980.722988.png saved in.\\output2\n"
     ]
    }
   ],
   "source": [
    "# Length of path\n",
    "inputPathLength = len(inputPath)\n",
    "# get file name\n",
    "print(inputFiles)\n",
    "for file in glob.glob(inputFiles):\n",
    "    filename = file[inputPathLength + 1:]\n",
    "    print(filename)\n",
    "    img = Image.open(file)\n",
    "    print(\"Old:\")\n",
    "    print(img.size)\n",
    "    print(img.mode)\n",
    "    print(img.getextrema())\n",
    "    \n",
    "    #Convert\n",
    "    #resize\n",
    "    img = img.resize([width,height], Image.ANTIALIAS)\n",
    "    #change mode\n",
    "    img = img.convert(\"L\")\n",
    "    \n",
    "    print(\"New:\")\n",
    "    print(img.size)\n",
    "    print(img.mode)\n",
    "    print(img.getextrema())\n",
    "   \n",
    "    # Windows\n",
    "    img.save(outputPath + \"\\\\\" + filename)\n",
    "    # Linux\n",
    "    # im.imsave(outputPath + \"/\" + filename)\n",
    "    print (filename + \" saved\" + \" in\" + outputPath)"
   ]
  },
  {
   "cell_type": "code",
   "execution_count": null,
   "metadata": {
    "collapsed": true
   },
   "outputs": [],
   "source": []
  }
 ],
 "metadata": {
  "kernelspec": {
   "display_name": "Python [default]",
   "language": "python",
   "name": "python3"
  },
  "language_info": {
   "codemirror_mode": {
    "name": "ipython",
    "version": 3
   },
   "file_extension": ".py",
   "mimetype": "text/x-python",
   "name": "python",
   "nbconvert_exporter": "python",
   "pygments_lexer": "ipython3",
   "version": "3.5.2"
  }
 },
 "nbformat": 4,
 "nbformat_minor": 1
}
