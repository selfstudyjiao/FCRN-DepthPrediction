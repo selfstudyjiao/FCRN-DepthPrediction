{
 "cells": [
  {
   "cell_type": "markdown",
   "metadata": {},
   "source": [
    "# convert image format from 4 channel, 8 bit per channel to single channel, 8 bit per channel"
   ]
  },
  {
   "cell_type": "code",
   "execution_count": null,
   "metadata": {
    "collapsed": true
   },
   "outputs": [],
   "source": [
    "from PIL import Image\n",
    "Image.LOAD_TRUNCATED_IMAGES = True\n",
    "from matplotlib import image as im\n",
    "import numpy as np\n",
    "import glob, os\n",
    "import png\n",
    "\n",
    "# error logging\n",
    "import logging\n",
    "logging.basicConfig(filename='./convert_error.log', level=logging.DEBUG, \n",
    "                    format='%(asctime)s %(levelname)s %(message)s')\n"
   ]
  },
  {
   "cell_type": "markdown",
   "metadata": {},
   "source": [
    "# Save to 16-bit grey-scale\n",
    "## Use pypng\n",
    "https://stackoverflow.com/questions/25696615/can-i-save-a-numpy-array-as-a-16-bit-image-using-normal-enthought-python/25814423#25814423\n",
    "* nparray: 2D numpy array\n",
    "* file2save: filename with path "
   ]
  },
  {
   "cell_type": "code",
   "execution_count": null,
   "metadata": {
    "collapsed": true
   },
   "outputs": [],
   "source": [
    "# save to 16-bit grey-scale\n",
    "# use pypng\n",
    "# https://stackoverflow.com/questions/25696615/can-i-save-a-numpy-array-as-a-16-bit-image-using-normal-enthought-python/25814423#25814423\n",
    "# nparray: 2D numpy array\n",
    "# file2save: filename with path \n",
    "def numpy2grey16(nparray, file2save):\n",
    "    # Convert to 16 bit unsigned integers.\n",
    "    z = (65535*((nparray - nparray.min())/nparray.ptp())).astype(np.uint16)\n",
    "    # Use pypng to write zgray as a grayscale PNG.\n",
    "    with open(file2save, 'wb') as f:\n",
    "        writer = png.Writer(width=z.shape[1], height=z.shape[0], bitdepth=16, greyscale=True)\n",
    "        zgray2list = z.tolist()\n",
    "        writer.write(f, zgray2list)"
   ]
  },
  {
   "cell_type": "markdown",
   "metadata": {},
   "source": [
    "# Save PPM to JPG/PNG\n",
    "to open PPM with missed data\n",
    "Image.LOAD_TRUNCATED_IMAGES = True\n",
    "https://stackoverflow.com/questions/12984426/python-pil-ioerror-image-file-truncated-with-big-images\n",
    "## Use PIL and pypng\n",
    "* ppmFile\n",
    "* file2save: filename with path # use pypng"
   ]
  },
  {
   "cell_type": "code",
   "execution_count": null,
   "metadata": {
    "collapsed": true
   },
   "outputs": [],
   "source": [
    "# ppmFile\n",
    "# file2save: filename with path # use pypng\n",
    "def ppm2jpg(ppmFile, file2save):\n",
    "    im = Image.open(ppmFile)\n",
    "    # im.save(file2save)\n",
    "    # consider the broken file\n",
    "    try:\n",
    "        im.save(file2save)\n",
    "    except IOError:    \n",
    "        logging.error(ppmFile + \" \" + \" can not be converted\")\n"
   ]
  },
  {
   "cell_type": "code",
   "execution_count": null,
   "metadata": {
    "collapsed": false
   },
   "outputs": [],
   "source": [
    "inputPath = '.\\\\living_room_0006'\n",
    "outputPath = '.\\\\RGB_living_room'\n",
    "inputFiles = inputPath + \"\\\\*.ppm\"\n",
    "# Length of path\n",
    "inputPathLength = len(inputPath)\n",
    "fileConverted = 0\n",
    "# get file name\n",
    "print(inputFiles)\n",
    "for file in glob.glob(inputFiles):\n",
    "    #if (fileConverted == 50 ):\n",
    "    #    break\n",
    "    filename = file[inputPathLength + 1:]\n",
    "    print(filename)\n",
    "    img = Image.open(file)\n",
    "    print(\"Old:\" + img.mode)\n",
    "    print(img.size)\n",
    "    \n",
    "    #Convert\n",
    "    outputFile = outputPath + \"\\\\\" + filename[:-4] + \".png\"\n",
    "    ppm2jpg(file, outputFile)\n",
    "    print(\"new:\" + img.mode)\n",
    "    print(img.size)\n",
    "    fileConverted = fileConverted + 1"
   ]
  },
  {
   "cell_type": "code",
   "execution_count": null,
   "metadata": {
    "collapsed": true
   },
   "outputs": [],
   "source": []
  }
 ],
 "metadata": {
  "kernelspec": {
   "display_name": "Python [default]",
   "language": "python",
   "name": "python3"
  },
  "language_info": {
   "codemirror_mode": {
    "name": "ipython",
    "version": 3
   },
   "file_extension": ".py",
   "mimetype": "text/x-python",
   "name": "python",
   "nbconvert_exporter": "python",
   "pygments_lexer": "ipython3",
   "version": "3.5.2"
  }
 },
 "nbformat": 4,
 "nbformat_minor": 1
}
