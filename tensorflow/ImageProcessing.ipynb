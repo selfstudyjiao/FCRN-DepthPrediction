{
 "cells": [
  {
   "cell_type": "markdown",
   "metadata": {},
   "source": [
    "Image processing\n",
    "================\n",
    "Overview\n",
    "---------\n",
    "1. Convert image with 4 channels to 3 channels. The processed file will be saved as newImage.\n",
    "2. Reshape the image to meet the input requirement, while keeps the apsect ratio. The processed file will be saved as reshapeImage.\n",
    "\n",
    "Usage\n",
    "-----\n",
    "* Update oldImage with the name of the orginal image; \n",
    "* Update imagePath with path holding the oldImage\n",
    "* Update size to match the intput size of model\n",
    "* newImage can be used for prediction"
   ]
  },
  {
   "cell_type": "code",
   "execution_count": 6,
   "metadata": {
    "collapsed": true
   },
   "outputs": [],
   "source": [
    "from PIL import Image\n",
    "import numpy as np\n",
    "oldImage = 'office.jpg'\n",
    "newImage = 'new_' + oldImage\n",
    "reshapeImage = 'reshape_' + oldImage\n",
    "imagePath = \"./images/original/\" + oldImage\n",
    "\n",
    "size = 304,228"
   ]
  },
  {
   "cell_type": "code",
   "execution_count": 7,
   "metadata": {
    "collapsed": false
   },
   "outputs": [
    {
     "data": {
      "text/plain": [
       "array([[[ 11,  44,  17],\n",
       "        [ 12,  45,  18],\n",
       "        [ 13,  46,  19],\n",
       "        ..., \n",
       "        [ 19,  35,  24],\n",
       "        [ 15,  33,  21],\n",
       "        [ 23,  41,  29]],\n",
       "\n",
       "       [[ 12,  45,  18],\n",
       "        [ 12,  45,  18],\n",
       "        [ 11,  44,  17],\n",
       "        ..., \n",
       "        [ 18,  34,  23],\n",
       "        [ 13,  31,  19],\n",
       "        [  2,  22,  10]],\n",
       "\n",
       "       [[ 13,  46,  19],\n",
       "        [ 12,  45,  18],\n",
       "        [ 11,  44,  17],\n",
       "        ..., \n",
       "        [ 18,  34,  21],\n",
       "        [ 13,  31,  17],\n",
       "        [ 16,  37,  22]],\n",
       "\n",
       "       ..., \n",
       "       [[ 56,  44,  44],\n",
       "        [ 44,  32,  32],\n",
       "        [ 25,  13,  13],\n",
       "        ..., \n",
       "        [174, 170, 171],\n",
       "        [174, 170, 171],\n",
       "        [174, 170, 171]],\n",
       "\n",
       "       [[ 35,  23,  23],\n",
       "        [ 49,  37,  37],\n",
       "        [ 31,  19,  19],\n",
       "        ..., \n",
       "        [174, 170, 171],\n",
       "        [174, 170, 171],\n",
       "        [174, 170, 171]],\n",
       "\n",
       "       [[ 31,  19,  19],\n",
       "        [ 37,  25,  25],\n",
       "        [ 44,  32,  32],\n",
       "        ..., \n",
       "        [174, 170, 171],\n",
       "        [174, 170, 171],\n",
       "        [174, 170, 171]]], dtype=uint8)"
      ]
     },
     "execution_count": 7,
     "metadata": {},
     "output_type": "execute_result"
    }
   ],
   "source": [
    "im = Image.open(imagePath)\n",
    "imarray = np.array(im)\n",
    "imarray"
   ]
  },
  {
   "cell_type": "code",
   "execution_count": 8,
   "metadata": {
    "collapsed": true
   },
   "outputs": [],
   "source": [
    "imarray3 = imarray[:,:,0:3]"
   ]
  },
  {
   "cell_type": "code",
   "execution_count": 9,
   "metadata": {
    "collapsed": false
   },
   "outputs": [
    {
     "data": {
      "text/plain": [
       "(512, 512, 3)"
      ]
     },
     "execution_count": 9,
     "metadata": {},
     "output_type": "execute_result"
    }
   ],
   "source": [
    "imarray3.shape"
   ]
  },
  {
   "cell_type": "code",
   "execution_count": 10,
   "metadata": {
    "collapsed": true
   },
   "outputs": [],
   "source": [
    "im2 = Image.fromarray(imarray3)\n",
    "im2.save(newImage)\n",
    "im2.thumbnail(size, Image.ANTIALIAS)\n",
    "im2.save(reshapeImage)"
   ]
  },
  {
   "cell_type": "code",
   "execution_count": null,
   "metadata": {
    "collapsed": true
   },
   "outputs": [],
   "source": []
  }
 ],
 "metadata": {
  "anaconda-cloud": {},
  "kernelspec": {
   "display_name": "Python [conda root]",
   "language": "python",
   "name": "conda-root-py"
  },
  "language_info": {
   "codemirror_mode": {
    "name": "ipython",
    "version": 3
   },
   "file_extension": ".py",
   "mimetype": "text/x-python",
   "name": "python",
   "nbconvert_exporter": "python",
   "pygments_lexer": "ipython3",
   "version": "3.5.2"
  }
 },
 "nbformat": 4,
 "nbformat_minor": 2
}
