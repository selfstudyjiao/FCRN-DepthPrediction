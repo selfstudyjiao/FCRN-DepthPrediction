{
 "cells": [
  {
   "cell_type": "markdown",
   "metadata": {},
   "source": [
    "Image processing\n",
    "================\n",
    "Overview\n",
    "---------\n",
    "1. Convert image with 4 channels to 3 channels. The processed file will be saved as newImage.\n",
    "2. Reshape the image to meet the input requirement, while keeps the apsect ratio. The processed file will be saved as reshapeImage.\n",
    "\n",
    "Usage\n",
    "-----\n",
    "* Update oldImage with the name of the orginal image; \n",
    "* Update imagePath with path holding the oldImage\n",
    "* Update size to match the intput size of model\n",
    "* newImage can be used for prediction"
   ]
  },
  {
   "cell_type": "code",
   "execution_count": 12,
   "metadata": {
    "collapsed": true
   },
   "outputs": [],
   "source": [
    "from PIL import Image\n",
    "from matplotlib import image as im\n",
    "import numpy as np\n",
    "oldImage = 'test.png'\n",
    "newImage = './Images/' + 'new_' + oldImage\n",
    "reshapeImage = './Images/' + 'reshape_' + oldImage\n",
    "imagePath = \"./\" + oldImage\n",
    "\n",
    "size = 304,228"
   ]
  },
  {
   "cell_type": "code",
   "execution_count": 13,
   "metadata": {
    "collapsed": false
   },
   "outputs": [
    {
     "name": "stdout",
     "output_type": "stream",
     "text": [
      "(640, 480)\n",
      "RGBA\n",
      "((0, 255), (0, 255), (0, 255), (255, 255))\n"
     ]
    },
    {
     "data": {
      "text/plain": [
       "array([[[ 88,  88,  88, 255],\n",
       "        [ 90,  90,  90, 255],\n",
       "        [ 94,  94,  94, 255],\n",
       "        ..., \n",
       "        [ 54,  54,  54, 255],\n",
       "        [ 49,  49,  49, 255],\n",
       "        [ 48,  48,  48, 255]],\n",
       "\n",
       "       [[ 90,  90,  90, 255],\n",
       "        [ 92,  92,  92, 255],\n",
       "        [ 96,  96,  96, 255],\n",
       "        ..., \n",
       "        [ 54,  54,  54, 255],\n",
       "        [ 51,  51,  51, 255],\n",
       "        [ 49,  49,  49, 255]],\n",
       "\n",
       "       [[ 95,  95,  95, 255],\n",
       "        [ 97,  97,  97, 255],\n",
       "        [100, 100, 100, 255],\n",
       "        ..., \n",
       "        [ 56,  56,  56, 255],\n",
       "        [ 54,  54,  54, 255],\n",
       "        [ 52,  52,  52, 255]],\n",
       "\n",
       "       ..., \n",
       "       [[ 48,  48,  48, 255],\n",
       "        [ 49,  49,  49, 255],\n",
       "        [ 52,  52,  52, 255],\n",
       "        ..., \n",
       "        [  3,   3,   3, 255],\n",
       "        [  3,   3,   3, 255],\n",
       "        [  3,   3,   3, 255]],\n",
       "\n",
       "       [[ 45,  45,  45, 255],\n",
       "        [ 47,  47,  47, 255],\n",
       "        [ 49,  49,  49, 255],\n",
       "        ..., \n",
       "        [  3,   3,   3, 255],\n",
       "        [  3,   3,   3, 255],\n",
       "        [  3,   3,   3, 255]],\n",
       "\n",
       "       [[ 44,  44,  44, 255],\n",
       "        [ 45,  45,  45, 255],\n",
       "        [ 48,  48,  48, 255],\n",
       "        ..., \n",
       "        [  3,   3,   3, 255],\n",
       "        [  3,   3,   3, 255],\n",
       "        [  3,   3,   3, 255]]], dtype=uint8)"
      ]
     },
     "execution_count": 13,
     "metadata": {},
     "output_type": "execute_result"
    }
   ],
   "source": [
    "# get info of the image\n",
    "img = Image.open(imagePath)\n",
    "img.load()\n",
    "print(img.size)\n",
    "print(img.mode)\n",
    "print(img.getextrema())\n",
    "imarray = np.array(img)\n",
    "imarray"
   ]
  },
  {
   "cell_type": "code",
   "execution_count": 20,
   "metadata": {
    "collapsed": false
   },
   "outputs": [
    {
     "name": "stdout",
     "output_type": "stream",
     "text": [
      "(640, 480)\n",
      "LA\n",
      "((0, 255), (255, 255))\n"
     ]
    }
   ],
   "source": [
    "# Convert to single channel\n",
    "new = img.convert(\"LA\")\n",
    "print(new.size)\n",
    "print(new.mode)\n",
    "print(new.getextrema())\n",
    "new.save(\"newtest.tiff\")"
   ]
  },
  {
   "cell_type": "code",
   "execution_count": 8,
   "metadata": {
    "collapsed": true
   },
   "outputs": [],
   "source": [
    "imarray3 = imarray[:,:,0:3]"
   ]
  },
  {
   "cell_type": "code",
   "execution_count": 9,
   "metadata": {
    "collapsed": false
   },
   "outputs": [
    {
     "data": {
      "text/plain": [
       "(512, 512, 3)"
      ]
     },
     "execution_count": 9,
     "metadata": {},
     "output_type": "execute_result"
    }
   ],
   "source": [
    "imarray3.shape"
   ]
  },
  {
   "cell_type": "code",
   "execution_count": 10,
   "metadata": {
    "collapsed": false
   },
   "outputs": [],
   "source": [
    "im2 = Image.fromarray(imarray3)\n",
    "im2.save(newImage)\n",
    "im2.thumbnail(size, Image.ANTIALIAS)\n",
    "im2.save(reshapeImage)"
   ]
  },
  {
   "cell_type": "code",
   "execution_count": null,
   "metadata": {
    "collapsed": true
   },
   "outputs": [],
   "source": []
  }
 ],
 "metadata": {
  "anaconda-cloud": {},
  "kernelspec": {
   "display_name": "Python [conda root]",
   "language": "python",
   "name": "conda-root-py"
  },
  "language_info": {
   "codemirror_mode": {
    "name": "ipython",
    "version": 3
   },
   "file_extension": ".py",
   "mimetype": "text/x-python",
   "name": "python",
   "nbconvert_exporter": "python",
   "pygments_lexer": "ipython3",
   "version": "3.5.2"
  }
 },
 "nbformat": 4,
 "nbformat_minor": 2
}
