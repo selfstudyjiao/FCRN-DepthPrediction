{
 "cells": [
  {
   "cell_type": "markdown",
   "metadata": {},
   "source": [
    "# Deeper Depth Prediction with Fully Convolutional Residual Networks\n",
    "\n",
    "By [Iro Laina](http://campar.in.tum.de/Main/IroLaina), [Christian Rupprecht](http://campar.in.tum.de/Main/ChristianRupprecht), [Vasileios Belagiannis](http://www.robots.ox.ac.uk/~vb/), [Federico Tombari](http://campar.in.tum.de/Main/FedericoTombari), [Nassir Navab](http://campar.in.tum.de/Main/NassirNavab).\n",
    "\n",
    "Modified from predict.py"
   ]
  },
  {
   "cell_type": "code",
   "execution_count": 1,
   "metadata": {
    "collapsed": true
   },
   "outputs": [],
   "source": [
    "import argparse\n",
    "import glob, os\n",
    "import numpy as np\n",
    "import scipy.ndimage\n",
    "import tensorflow as tf\n",
    "from matplotlib import pyplot as plt\n",
    "from matplotlib import image as im\n",
    "%matplotlib inline\n",
    "from PIL import Image\n",
    "import time\n",
    "import png\n",
    "\n",
    "import models"
   ]
  },
  {
   "cell_type": "markdown",
   "metadata": {},
   "source": [
    "## Loading the model"
   ]
  },
  {
   "cell_type": "code",
   "execution_count": 2,
   "metadata": {
    "collapsed": false
   },
   "outputs": [
    {
     "name": "stdout",
     "output_type": "stream",
     "text": [
      "Loading the model...\n",
      "Model is ready\n",
      "--- Model loading time: 142.91447758674622 seconds ---\n"
     ]
    }
   ],
   "source": [
    "# Path to pre-trained model\n",
    "model_data_path = \"./NYU_ResNet-UpProj.npy\"\n",
    "# Default input size\n",
    "height = 228\n",
    "width = 304\n",
    "channels = 3\n",
    "batch_size = 1\n",
    "# Create a placeholder for the input image\n",
    "input_node = tf.placeholder(tf.float32, shape=(None, height, width, channels))\n",
    "    \n",
    "# Construct the network\n",
    "net = models.ResNet50UpProj({'data': input_node}, batch_size)\n",
    "    \n",
    "sess = tf.Session()\n",
    "    \n",
    "# Load the converted parameters\n",
    "start_time = time.time()\n",
    "print('Loading the model...')\n",
    "net.load(model_data_path, sess)\n",
    "    \n",
    "uninitialized_vars = []\n",
    "for var in tf.global_variables():\n",
    "    try:\n",
    "        sess.run(var)\n",
    "    except tf.errors.FailedPreconditionError:\n",
    "        uninitialized_vars.append(var)\n",
    "            \n",
    "init_new_vars_op = tf.variables_initializer(uninitialized_vars)\n",
    "sess.run(init_new_vars_op)\n",
    "print('Model is ready')\n",
    "print(\"--- Model loading time: %s seconds ---\" % (time.time() - start_time))"
   ]
  },
  {
   "cell_type": "code",
   "execution_count": 3,
   "metadata": {
    "collapsed": true
   },
   "outputs": [],
   "source": [
    "# save to 16-bit grey-scale\n",
    "# use pypng\n",
    "# https://stackoverflow.com/questions/25696615/can-i-save-a-numpy-array-as-a-16-bit-image-using-normal-enthought-python/25814423#25814423\n",
    "# nparray: 2D numpy array\n",
    "# file2save: filename with path \n",
    "def numpy2grey16(nparray, file2save):\n",
    "    # Convert to 16 bit unsigned integers.\n",
    "    z = (65535*((nparray - nparray.min())/nparray.ptp())).astype(np.uint16)\n",
    "    # Use pypng to write zgray as a grayscale PNG.\n",
    "    with open(file2save, 'wb') as f:\n",
    "        writer = png.Writer(width=z.shape[1], height=z.shape[0], bitdepth=16, greyscale=True)\n",
    "        zgray2list = z.tolist()\n",
    "        writer.write(f, zgray2list)"
   ]
  },
  {
   "cell_type": "markdown",
   "metadata": {},
   "source": [
    "## You can skip the following step to the next one if you want to predict series of images\n",
    "## Predict the single depth images"
   ]
  },
  {
   "cell_type": "code",
   "execution_count": null,
   "metadata": {
    "collapsed": false,
    "scrolled": true
   },
   "outputs": [],
   "source": [
    "start_time = time.time()\n",
    "print('Reading image')\n",
    "# Read image\n",
    "image_path = \"./Images/new_office.jpg\"\n",
    "img = Image.open(image_path)\n",
    "img = img.resize([width,height], Image.ANTIALIAS)\n",
    "img = np.array(img).astype('float32')\n",
    "img = np.expand_dims(np.asarray(img), axis = 0)\n",
    "print(\"--- Image reading time : %s seconds ---\" % (time.time() - start_time))\n",
    "print('Predicting')\n",
    "start_time = time.time()\n",
    "pred = sess.run(net.get_output(), feed_dict={input_node: img})\n",
    "print(type(pred))\n",
    "print(\"--- Predicting time : %s seconds ---\" % (time.time() - start_time))\n",
    "\n",
    "# Plot result\n",
    "fig = plt.figure()\n",
    "ii = plt.imshow(pred[0,:,:,0], interpolation='nearest', cmap=plt.cm.get_cmap('Greys_r'))\n",
    "fig.colorbar(ii)\n",
    "plt.show()\n",
    "\n",
    "newpred = np.array(pred[0,:,:,0])\n",
    "numpy2grey16(newpred, \"new22.png\")\n",
    "tmp = Image.open(\"new22.png\")\n",
    "print(tmp.size)\n",
    "print(tmp.mode)\n",
    "print(tmp.getextrema())\n",
    "\n",
    "\n",
    "(m, predsizey, predsizex, n) = pred.shape\n",
    "print (m, predsizex, predsizey, n)\n",
    "upscaled = scipy.ndimage.interpolation.zoom(pred[0,:,:,0], (480./128, 640./160))\n",
    "\n",
    "im.imsave(\"test\",upscaled16,cmap=plt.cm.get_cmap('Greys_r'))"
   ]
  },
  {
   "cell_type": "markdown",
   "metadata": {},
   "source": [
    "Predict multiple depth images\n",
    "------------------------"
   ]
  },
  {
   "cell_type": "code",
   "execution_count": 4,
   "metadata": {
    "collapsed": false
   },
   "outputs": [
    {
     "name": "stdout",
     "output_type": "stream",
     "text": [
      "8\n",
      "r-1295148646.180126-2906414360.png\n",
      "r-1295148646.180126-2906414360.png saved in.\\output\n",
      "r-1295148646.210704-2908414648.png\n",
      "r-1295148646.210704-2908414648.png saved in.\\output\n",
      "r-1295148646.245755-2910414935.png\n",
      "r-1295148646.245755-2910414935.png saved in.\\output\n",
      "r-1295148646.277860-2912415223.png\n",
      "r-1295148646.277860-2912415223.png saved in.\\output\n",
      "r-1295148646.309921-2914415510.png\n",
      "r-1295148646.309921-2914415510.png saved in.\\output\n",
      "r-1295148646.341792-2916415798.png\n",
      "r-1295148646.341792-2916415798.png saved in.\\output\n",
      "r-1295148646.373948-2918416085.png\n",
      "r-1295148646.373948-2918416085.png saved in.\\output\n",
      "r-1295148646.405835-2920416373.png\n",
      "r-1295148646.405835-2920416373.png saved in.\\output\n",
      "r-1295148646.438184-2922416660.png\n",
      "r-1295148646.438184-2922416660.png saved in.\\output\n",
      "r-1295148646.469876-2924416948.png\n",
      "r-1295148646.469876-2924416948.png saved in.\\output\n",
      "r-1295148646.534079-2926417235.png\n",
      "r-1295148646.534079-2926417235.png saved in.\\output\n",
      "r-1295148646.612926-2932418098.png\n",
      "r-1295148646.612926-2932418098.png saved in.\\output\n",
      "r-1295148646.644929-2934418385.png\n",
      "r-1295148646.644929-2934418385.png saved in.\\output\n",
      "r-1295148646.676903-2936418673.png\n",
      "r-1295148646.676903-2936418673.png saved in.\\output\n",
      "r-1295148646.708920-2938418960.png\n",
      "r-1295148646.708920-2938418960.png saved in.\\output\n",
      "r-1295148646.745830-2940419248.png\n",
      "r-1295148646.745830-2940419248.png saved in.\\output\n",
      "r-1295148646.777843-2942419535.png\n",
      "r-1295148646.777843-2942419535.png saved in.\\output\n",
      "r-1295148646.824522-2944419823.png\n",
      "r-1295148646.824522-2944419823.png saved in.\\output\n",
      "r-1295148646.873855-2948420398.png\n",
      "r-1295148646.873855-2948420398.png saved in.\\output\n",
      "r-1295148646.953590-2950420685.png\n",
      "r-1295148646.953590-2950420685.png saved in.\\output\n",
      "r-1295148646.966758-2952420973.png\n",
      "r-1295148646.966758-2952420973.png saved in.\\output\n",
      "r-1295148647.011662-2956421548.png\n",
      "r-1295148647.011662-2956421548.png saved in.\\output\n",
      "r-1295148647.043623-2958421835.png\n",
      "r-1295148647.043623-2958421835.png saved in.\\output\n",
      "r-1295148647.075677-2960422123.png\n",
      "r-1295148647.075677-2960422123.png saved in.\\output\n",
      "r-1295148647.107646-2962422410.png\n",
      "r-1295148647.107646-2962422410.png saved in.\\output\n",
      "r-1295148647.139651-2964422698.png\n",
      "r-1295148647.139651-2964422698.png saved in.\\output\n",
      "r-1295148647.171728-2966422985.png\n",
      "r-1295148647.171728-2966422985.png saved in.\\output\n",
      "r-1295148647.203692-2968423273.png\n",
      "r-1295148647.203692-2968423273.png saved in.\\output\n",
      "r-1295148647.271984-2970423560.png\n",
      "r-1295148647.271984-2970423560.png saved in.\\output\n",
      "r-1295148647.333670-2976424423.png\n",
      "r-1295148647.333670-2976424423.png saved in.\\output\n",
      "r-1295148647.365703-2978424710.png\n",
      "r-1295148647.365703-2978424710.png saved in.\\output\n",
      "r-1295148647.413590-2980424998.png\n",
      "r-1295148647.413590-2980424998.png saved in.\\output\n",
      "r-1295148647.445576-2982425285.png\n",
      "r-1295148647.445576-2982425285.png saved in.\\output\n",
      "r-1295148647.477602-2984425573.png\n",
      "r-1295148647.477602-2984425573.png saved in.\\output\n",
      "r-1295148647.509612-2986425860.png\n",
      "r-1295148647.509612-2986425860.png saved in.\\output\n",
      "r-1295148647.541610-2988426148.png\n",
      "r-1295148647.541610-2988426148.png saved in.\\output\n",
      "r-1295148647.573608-2990426435.png\n",
      "r-1295148647.573608-2990426435.png saved in.\\output\n",
      "r-1295148647.605623-2992426723.png\n",
      "r-1295148647.605623-2992426723.png saved in.\\output\n",
      "r-1295148647.637620-2994427010.png\n",
      "r-1295148647.637620-2994427010.png saved in.\\output\n",
      "r-1295148647.669629-2996427298.png\n",
      "r-1295148647.669629-2996427298.png saved in.\\output\n",
      "r-1295148647.701686-2998427585.png\n",
      "r-1295148647.701686-2998427585.png saved in.\\output\n",
      "r-1295148647.733636-3000427873.png\n",
      "r-1295148647.733636-3000427873.png saved in.\\output\n",
      "r-1295148647.765635-3002428160.png\n",
      "r-1295148647.765635-3002428160.png saved in.\\output\n",
      "r-1295148647.813592-3004428448.png\n",
      "r-1295148647.813592-3004428448.png saved in.\\output\n",
      "r-1295148647.845593-3006428735.png\n",
      "r-1295148647.845593-3006428735.png saved in.\\output\n",
      "r-1295148647.877594-3008429023.png\n",
      "r-1295148647.877594-3008429023.png saved in.\\output\n",
      "r-1295148647.909621-3010429310.png\n",
      "r-1295148647.909621-3010429310.png saved in.\\output\n",
      "r-1295148647.941587-3012429598.png\n",
      "r-1295148647.941587-3012429598.png saved in.\\output\n",
      "r-1295148647.973622-3014429885.png\n",
      "r-1295148647.973622-3014429885.png saved in.\\output\n",
      "r-1295148648.165651-3026431610.png\n",
      "r-1295148648.165651-3026431610.png saved in.\\output\n",
      "--- Predicting time : 53.46208953857422 seconds ---\n"
     ]
    }
   ],
   "source": [
    "# windows\n",
    "seriesPath = \".\\\\series\"\n",
    "outputPath = \".\\\\output\"\n",
    "seriesFiles = seriesPath + \"\\\\*.png\"\n",
    "# Linux\n",
    "# seriesPath = \"./series\"\n",
    "# outputPath = \"./output\"\n",
    "# seriesFiles = seriesPath + \"/*.png\"\n",
    "\n",
    "# Length of path\n",
    "seriesPathLength = len(seriesPath)\n",
    "print(seriesPathLength)\n",
    "start_time = time.time()\n",
    "\n",
    "# get file name\n",
    "for file in glob.glob(seriesFiles):\n",
    "    filename = file[seriesPathLength + 1:]\n",
    "    print(filename)\n",
    "    img = Image.open(file)\n",
    "    img = img.resize([width,height], Image.ANTIALIAS)\n",
    "    img = np.array(img).astype('float32')\n",
    "    img = np.expand_dims(np.asarray(img), axis = 0)\n",
    "    # predict\n",
    "    pred = sess.run(net.get_output(), feed_dict={input_node: img})\n",
    "    upscaled = scipy.ndimage.interpolation.zoom(pred[0,:,:,0], (480./128, 640./160))\n",
    "    # save the depth map\n",
    "    # Windows\n",
    "    numpy2grey16(upscaled, outputPath + \"\\\\\" + filename)\n",
    "    # im.imsave(outputPath + \"\\\\\" + filename, upscaled, cmap=plt.cm.get_cmap('Greys_r'))\n",
    "    # Linux\n",
    "    # im.imsave(outputPath + \"/\" + filename, upscaled, cmap=plt.cm.get_cmap('Greys_r'))\n",
    "    print (filename + \" saved\" + \" in\" + outputPath)\n",
    "    \n",
    "    \n",
    "print(\"--- Predicting time : %s seconds ---\" % (time.time() - start_time))\n",
    "    \n"
   ]
  },
  {
   "cell_type": "code",
   "execution_count": 5,
   "metadata": {
    "collapsed": true
   },
   "outputs": [],
   "source": [
    "sess.close()"
   ]
  },
  {
   "cell_type": "code",
   "execution_count": null,
   "metadata": {
    "collapsed": true
   },
   "outputs": [],
   "source": []
  }
 ],
 "metadata": {
  "anaconda-cloud": {},
  "kernelspec": {
   "display_name": "Python [default]",
   "language": "python",
   "name": "python3"
  },
  "language_info": {
   "codemirror_mode": {
    "name": "ipython",
    "version": 3
   },
   "file_extension": ".py",
   "mimetype": "text/x-python",
   "name": "python",
   "nbconvert_exporter": "python",
   "pygments_lexer": "ipython3",
   "version": "3.5.2"
  }
 },
 "nbformat": 4,
 "nbformat_minor": 1
}
